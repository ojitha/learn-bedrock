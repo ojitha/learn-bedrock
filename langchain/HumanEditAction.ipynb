{
 "cells": [
  {
   "cell_type": "markdown",
   "id": "edc56ff5",
   "metadata": {},
   "source": [
    "## Human Edit Action Agent\n",
    "Agent base chatbot using Amazon Bedrock and LangGraph.\n",
    "\n",
    "Human can edit the actions."
   ]
  },
  {
   "cell_type": "code",
   "execution_count": 1,
   "id": "a455b8cf",
   "metadata": {},
   "outputs": [],
   "source": [
    "import boto3\n",
    "import json\n",
    "import logging\n",
    "\n",
    "from langchain_aws import ChatBedrock\n",
    "from langchain_core.output_parsers import StrOutputParser\n",
    "\n",
    "boto3.set_stream_logger('', logging.ERROR)\n",
    "\n",
    "# Initialize AWS Bedrock client\n",
    "bedrock_client = boto3.client(\n",
    "    service_name='bedrock-runtime'\n",
    "    ,region_name='ap-southeast-2'\n",
    ")\n",
    "\n",
    "llm = ChatBedrock(\n",
    "    client=bedrock_client,\n",
    "    model_id=\"amazon.nova-pro-v1:0\",  \n",
    "    model_kwargs={\n",
    "        \"temperature\": 0.3,  # Same temperature as original\n",
    "        \"maxTokenCount\": 1000\n",
    "    }\n",
    ")"
   ]
  },
  {
   "cell_type": "code",
   "execution_count": 2,
   "id": "3b472981",
   "metadata": {},
   "outputs": [],
   "source": [
    "from langgraph.graph import StateGraph\n",
    "from langgraph.prebuilt import ToolNode, tools_condition\n",
    "\n",
    "from typing_extensions import TypedDict\n",
    "from typing import Annotated"
   ]
  },
  {
   "cell_type": "code",
   "execution_count": 3,
   "id": "3fd8579b",
   "metadata": {},
   "outputs": [],
   "source": [
    "%load_ext dotenv\n",
    "%dotenv ../../.env"
   ]
  },
  {
   "cell_type": "code",
   "execution_count": 4,
   "id": "c3b43e4e",
   "metadata": {},
   "outputs": [
    {
     "name": "stderr",
     "output_type": "stream",
     "text": [
      "/var/folders/8w/ytv2_9yd0nld4gbqjwbs4yw40000gn/T/ipykernel_97912/731925779.py:2: LangChainDeprecationWarning: The class `TavilySearchResults` was deprecated in LangChain 0.3.25 and will be removed in 1.0. An updated version of the class exists in the :class:`~langchain-tavily package and should be used instead. To use it run `pip install -U :class:`~langchain-tavily` and import as `from :class:`~langchain_tavily import TavilySearch``.\n",
      "  travily_search = TavilySearchResults(max_results=2)\n"
     ]
    }
   ],
   "source": [
    "from langchain_community.tools import TavilySearchResults\n",
    "travily_search = TavilySearchResults(max_results=2)"
   ]
  },
  {
   "cell_type": "code",
   "execution_count": 5,
   "id": "5541d767",
   "metadata": {},
   "outputs": [],
   "source": [
    "# current date and time\n",
    "import datetime\n",
    "from langchain_core.tools import tool\n",
    "\n",
    "@tool\n",
    "def get_current_date():\n",
    "    \"\"\"\n",
    "    Get the current date and time.\n",
    "    Use this tool first for any tile-based queries.\n",
    "    \"\"\"\n",
    "    return datetime.datetime.now().strftime(\"%Y-%m-%d %H:%M:%S\")"
   ]
  },
  {
   "cell_type": "markdown",
   "id": "692777df",
   "metadata": {},
   "source": [
    "Bind the LLM to tools:"
   ]
  },
  {
   "cell_type": "code",
   "execution_count": 6,
   "id": "70d9954a",
   "metadata": {},
   "outputs": [],
   "source": [
    "llm_with_tools = llm.bind_tools([get_current_date, travily_search])"
   ]
  },
  {
   "cell_type": "code",
   "execution_count": 7,
   "id": "d812781b",
   "metadata": {},
   "outputs": [],
   "source": [
    "from langgraph.graph.message import add_messages\n",
    "\n",
    "class State(TypedDict):\n",
    "    messages: Annotated[list, add_messages]"
   ]
  },
  {
   "cell_type": "markdown",
   "id": "68673511",
   "metadata": {},
   "source": [
    "Define the nodes:"
   ]
  },
  {
   "cell_type": "code",
   "execution_count": 8,
   "id": "a725301f",
   "metadata": {},
   "outputs": [],
   "source": [
    "def chatbot(state: State):\n",
    "    return {\"messages\": llm_with_tools.invoke(state[\"messages\"])}"
   ]
  },
  {
   "cell_type": "markdown",
   "id": "15fdf0e2",
   "metadata": {},
   "source": [
    "Define the graph:"
   ]
  },
  {
   "cell_type": "code",
   "execution_count": 9,
   "id": "a98a4a76",
   "metadata": {},
   "outputs": [
    {
     "data": {
      "text/plain": [
       "<langgraph.graph.state.StateGraph at 0x11a9e9160>"
      ]
     },
     "execution_count": 9,
     "metadata": {},
     "output_type": "execute_result"
    }
   ],
   "source": [
    "graph_builder = StateGraph(State)\n",
    "graph_builder.add_node(\"chatbot\", chatbot)\n",
    "\n",
    "tool_node = ToolNode(tools=[get_current_date, travily_search])\n",
    "graph_builder.add_node(\"tools\", tool_node)"
   ]
  },
  {
   "cell_type": "markdown",
   "id": "7d26c404",
   "metadata": {},
   "source": [
    "## Add edges\n",
    "\n",
    "This is a conditional edge that will only be taken if the tool condition is met:"
   ]
  },
  {
   "cell_type": "code",
   "execution_count": 10,
   "id": "efcbcab1",
   "metadata": {},
   "outputs": [
    {
     "data": {
      "text/plain": [
       "<langgraph.graph.state.StateGraph at 0x11a9e9160>"
      ]
     },
     "execution_count": 10,
     "metadata": {},
     "output_type": "execute_result"
    }
   ],
   "source": [
    "graph_builder.add_conditional_edges(\"chatbot\", tools_condition)"
   ]
  },
  {
   "cell_type": "markdown",
   "id": "80cb96a6",
   "metadata": {},
   "source": [
    "If tools are used, return to the chatbot to process the tool output"
   ]
  },
  {
   "cell_type": "code",
   "execution_count": 11,
   "id": "17dbbaa9",
   "metadata": {},
   "outputs": [
    {
     "data": {
      "text/plain": [
       "<langgraph.graph.state.StateGraph at 0x11a9e9160>"
      ]
     },
     "execution_count": 11,
     "metadata": {},
     "output_type": "execute_result"
    }
   ],
   "source": [
    "graph_builder.add_edge(\"tools\", \"chatbot\")"
   ]
  },
  {
   "cell_type": "markdown",
   "id": "bb4fd772",
   "metadata": {},
   "source": [
    "Set the entry point:"
   ]
  },
  {
   "cell_type": "code",
   "execution_count": 12,
   "id": "87fea4ff",
   "metadata": {},
   "outputs": [
    {
     "data": {
      "text/plain": [
       "<langgraph.graph.state.StateGraph at 0x11a9e9160>"
      ]
     },
     "execution_count": 12,
     "metadata": {},
     "output_type": "execute_result"
    }
   ],
   "source": [
    "graph_builder.set_entry_point(\"chatbot\")"
   ]
  },
  {
   "cell_type": "markdown",
   "id": "d301ba1c",
   "metadata": {},
   "source": [
    "Compile the graph"
   ]
  },
  {
   "cell_type": "markdown",
   "id": "f3d05184",
   "metadata": {},
   "source": [
    "As shown in the above output, model cannot remember. Therefore, need to save to the memory:"
   ]
  },
  {
   "cell_type": "code",
   "execution_count": 13,
   "id": "2178a57c",
   "metadata": {},
   "outputs": [],
   "source": [
    "from langgraph.checkpoint.memory import MemorySaver\n",
    "\n",
    "memory = MemorySaver()"
   ]
  },
  {
   "cell_type": "markdown",
   "id": "3d36d482",
   "metadata": {},
   "source": [
    "Now recompile and pass the memory object:"
   ]
  },
  {
   "cell_type": "code",
   "execution_count": 14,
   "id": "62209777",
   "metadata": {},
   "outputs": [],
   "source": [
    "graph = graph_builder.compile(\n",
    "    checkpointer=memory,\n",
    "    interrupt_before=[\"tools\"]\n",
    ")"
   ]
  },
  {
   "cell_type": "code",
   "execution_count": 15,
   "id": "67c27db9",
   "metadata": {},
   "outputs": [
    {
     "data": {
      "image/png": "[encoded data removed]",
      "text/plain": [
       "<IPython.core.display.Image object>"
      ]
     },
     "metadata": {},
     "output_type": "display_data"
    }
   ],
   "source": [
    "from IPython.display import display, Image\n",
    "\n",
    "display(Image(graph.get_graph().draw_mermaid_png()))"
   ]
  },
  {
   "cell_type": "markdown",
   "id": "0838333b",
   "metadata": {},
   "source": [
    "Define the **configurable** user session:"
   ]
  },
  {
   "cell_type": "code",
   "execution_count": 16,
   "id": "458352ee",
   "metadata": {},
   "outputs": [],
   "source": [
    "cfg_user_1 = {\"configurable\": {\"thread_id\": \"1\"}}"
   ]
  },
  {
   "cell_type": "code",
   "execution_count": 26,
   "id": "f2164775",
   "metadata": {},
   "outputs": [
    {
     "name": "stdout",
     "output_type": "stream",
     "text": [
      "================================\u001b[1m Human Message \u001b[0m=================================\n",
      "\n",
      "What is the weather in Sydney?\n",
      "==================================\u001b[1m Ai Message \u001b[0m==================================\n",
      "\n",
      "[{'type': 'text', 'text': \"<thinking> The user's question is about the current weather in Sydney. I need to use the tavily_search_results_json tool to get the latest weather information. </thinking>\\n\"}, {'type': 'tool_use', 'name': 'tavily_search_results_json', 'input': {'query': 'current weather in Sydney'}, 'id': 'tooluse_efrXcyucQIWnfzpbzMmI7Q'}]\n",
      "Tool Calls:\n",
      "  tavily_search_results_json (tooluse_efrXcyucQIWnfzpbzMmI7Q)\n",
      " Call ID: tooluse_efrXcyucQIWnfzpbzMmI7Q\n",
      "  Args:\n",
      "    query: current weather in Sydney\n"
     ]
    }
   ],
   "source": [
    "events = graph.stream(\n",
    "    {\"messages\": [(\"user\", \"What is the weather in Sydney?\")]}\n",
    "    , cfg_user_1\n",
    "    , stream_mode=\"values\"\n",
    ")\n",
    "\n",
    "for event in events:\n",
    "    if \"messages\" in event:\n",
    "        event[\"messages\"][-1].pretty_print()"
   ]
  },
  {
   "cell_type": "markdown",
   "id": "46f5dcd8",
   "metadata": {},
   "source": [
    "To learn, let's inspect what is happening in the graph? what is the next node?"
   ]
  },
  {
   "cell_type": "code",
   "execution_count": 27,
   "id": "4cbc02e1",
   "metadata": {},
   "outputs": [
    {
     "data": {
      "text/plain": [
       "('tools',)"
      ]
     },
     "execution_count": 27,
     "metadata": {},
     "output_type": "execute_result"
    }
   ],
   "source": [
    "snapshot=graph.get_state(cfg_user_1)\n",
    "snapshot.next"
   ]
  },
  {
   "cell_type": "markdown",
   "id": "4b7d95d4",
   "metadata": {},
   "source": [
    "Check the original tool call"
   ]
  },
  {
   "cell_type": "code",
   "execution_count": 28,
   "id": "63cc8292",
   "metadata": {},
   "outputs": [
    {
     "name": "stdout",
     "output_type": "stream",
     "text": [
      "Original tool call:  [{'name': 'tavily_search_results_json', 'args': {'query': 'current weather in Sydney'}, 'id': 'tooluse_efrXcyucQIWnfzpbzMmI7Q', 'type': 'tool_call'}]\n",
      "Original tool call Message ID:  run--1c6fedcf-05b8-4552-822f-8f393ddcb586-0\n"
     ]
    }
   ],
   "source": [
    "last_message = snapshot.values[\"messages\"][-1]\n",
    "\n",
    "print(\"Original tool call: \", last_message.tool_calls)\n",
    "print(\"Original tool call Message ID: \", last_message.id)"
   ]
  },
  {
   "cell_type": "markdown",
   "id": "753176b4",
   "metadata": {},
   "source": [
    "Modify the `tools_calls mean`, message with the above id should be replace with the different message:"
   ]
  },
  {
   "cell_type": "code",
   "execution_count": 29,
   "id": "8fe37dc0",
   "metadata": {},
   "outputs": [
    {
     "data": {
      "text/plain": [
       "{'name': 'tavily_search_results_json',\n",
       " 'args': {'query': 'current weather in Sydney'},\n",
       " 'id': 'tooluse_efrXcyucQIWnfzpbzMmI7Q',\n",
       " 'type': 'tool_call'}"
      ]
     },
     "execution_count": 29,
     "metadata": {},
     "output_type": "execute_result"
    }
   ],
   "source": [
    "last_message.tool_calls[0]"
   ]
  },
  {
   "cell_type": "code",
   "execution_count": 30,
   "id": "acba51cc",
   "metadata": {},
   "outputs": [
    {
     "data": {
      "text/plain": [
       "{'name': 'tavily_search_results_json',\n",
       " 'args': {'query': 'What is the captial of Sri Lanka?'},\n",
       " 'id': 'tooluse_efrXcyucQIWnfzpbzMmI7Q',\n",
       " 'type': 'tool_call'}"
      ]
     },
     "execution_count": 30,
     "metadata": {},
     "output_type": "execute_result"
    }
   ],
   "source": [
    "from langchain_core.messages import AIMessage\n",
    "\n",
    "new_tool_call = last_message.tool_calls[0].copy()\n",
    "new_tool_call[\"args\"]['query'] = \"What is the captial of Sri Lanka?\"\n",
    "new_tool_call"
   ]
  },
  {
   "cell_type": "code",
   "execution_count": 31,
   "id": "963b3cdf",
   "metadata": {},
   "outputs": [
    {
     "data": {
      "text/plain": [
       "[{'type': 'text',\n",
       "  'text': \"<thinking> The user's question is about the current weather in Sydney. I need to use the tavily_search_results_json tool to get the latest weather information. </thinking>\\n\"},\n",
       " {'type': 'tool_use',\n",
       "  'name': 'tavily_search_results_json',\n",
       "  'input': {'query': 'current weather in Sydney'},\n",
       "  'id': 'tooluse_efrXcyucQIWnfzpbzMmI7Q'}]"
      ]
     },
     "execution_count": 31,
     "metadata": {},
     "output_type": "execute_result"
    }
   ],
   "source": [
    "last_message.content"
   ]
  },
  {
   "cell_type": "markdown",
   "id": "96a58feb",
   "metadata": {},
   "source": [
    "Import to keep the same ID for replacement"
   ]
  },
  {
   "cell_type": "code",
   "execution_count": 32,
   "id": "987fbf6a",
   "metadata": {},
   "outputs": [
    {
     "data": {
      "text/plain": [
       "{'name': 'tavily_search_results_json',\n",
       " 'args': {'query': 'What is the captial of Sri Lanka?'},\n",
       " 'id': 'tooluse_efrXcyucQIWnfzpbzMmI7Q',\n",
       " 'type': 'tool_call'}"
      ]
     },
     "execution_count": 32,
     "metadata": {},
     "output_type": "execute_result"
    }
   ],
   "source": [
    "new_message = AIMessage(\n",
    "    content=last_message.content,\n",
    "    tool_calls=[new_tool_call],\n",
    "    id=last_message.id\n",
    ")\n",
    "\n",
    "new_tool_call"
   ]
  },
  {
   "cell_type": "markdown",
   "id": "44738264",
   "metadata": {},
   "source": [
    "update the state of the grap bu passing the above `new_message`. It is necessary to execute second line `tool_calls`."
   ]
  },
  {
   "cell_type": "code",
   "execution_count": 33,
   "id": "e998cede",
   "metadata": {},
   "outputs": [
    {
     "data": {
      "text/plain": [
       "[{'name': 'tavily_search_results_json',\n",
       "  'args': {'query': 'What is the captial of Sri Lanka?'},\n",
       "  'id': 'tooluse_efrXcyucQIWnfzpbzMmI7Q',\n",
       "  'type': 'tool_call'}]"
      ]
     },
     "execution_count": 33,
     "metadata": {},
     "output_type": "execute_result"
    }
   ],
   "source": [
    "graph.update_state(cfg_user_1, {\"messages\": [new_message]})\n",
    "graph.get_state(cfg_user_1).values[\"messages\"][-1].tool_calls"
   ]
  },
  {
   "cell_type": "markdown",
   "id": "103687f0",
   "metadata": {},
   "source": [
    "Continue the execution with the new message by updating the graph by `None`:"
   ]
  },
  {
   "cell_type": "code",
   "execution_count": 34,
   "id": "47dc57f2",
   "metadata": {},
   "outputs": [
    {
     "name": "stdout",
     "output_type": "stream",
     "text": [
      "==================================\u001b[1m Ai Message \u001b[0m==================================\n",
      "\n",
      "[{'type': 'text', 'text': \"<thinking> The user's question is about the current weather in Sydney. I need to use the tavily_search_results_json tool to get the latest weather information. </thinking>\\n\"}, {'type': 'tool_use', 'name': 'tavily_search_results_json', 'input': {'query': 'current weather in Sydney'}, 'id': 'tooluse_efrXcyucQIWnfzpbzMmI7Q'}]\n",
      "Tool Calls:\n",
      "  tavily_search_results_json (tooluse_efrXcyucQIWnfzpbzMmI7Q)\n",
      " Call ID: tooluse_efrXcyucQIWnfzpbzMmI7Q\n",
      "  Args:\n",
      "    query: What is the captial of Sri Lanka?\n",
      "=================================\u001b[1m Tool Message \u001b[0m=================================\n",
      "Name: tavily_search_results_json\n",
      "\n",
      "[{\"title\": \"What is the capital of Sri Lanka? - Quora\", \"url\": \"https://www.quora.com/What-is-the-capital-of-Sri-Lanka-1\", \"content\": \"The capital of Sri Lanka is Sri Jayawardenepura Kotte. It is a historic capital of Sri Lanka, from the Kotte Kingdom (established 14th century). Sri Jayawardenepura translates roughly as ‘resplendent city of rising victory’.\\n\\nWhilst there were later kingdoms (notably Kandy) and colonial powers of Portuguese, Dutch and British used Colombo as their capital, much later President JR Jayewardene decided to move the capital to the ancient lands. [...] Author has 367 answers and 78K answer views\\n\\n · \\n\\n5y\\n\\nThe capital of Sri Lanka is Sri Jayawardenapura Kotte.\\n\\nHope this helps.\\n\\nThe capital of Sri Lanka is Sri Jayawardenapura Kotte.\\n\\nHope this helps.\\n\\nSponsored by Grommet\\n\\nWhat are the smartest inventions of 2025?\\n\\nHere are some of the smartest (and most useful) gadgets we've seen this year. Take a look!\\n\\nAnna Riley\\n\\n6y [...] Originally Answered: Countries: What is the capital of Sri Lanka?\\n ·\\n\\nThe capital of Sri Lanka is Sri Jayawardenepura Kotte. It is a historic capital of Sri Lanka, from the Kotte Kingdom (established 14th century). Sri Jayawardenepura translates roughly as ‘resplendent city of rising victory’.\", \"score\": 0.9152729}, {\"title\": \"Capital of Sri Lanka - Wikipedia\", \"url\": \"https://en.wikipedia.org/wiki/Capital_of_Sri_Lanka\", \"content\": \"Jump to content\\n\\n# Capital of Sri Lanka\\n\\n हिन्दी\\n\\nEdit links\\n\\nFrom Wikipedia, the free encyclopedia\\n\\nThe current legislative capital of Sri Lanka is Sri Jayawardenepura Kotte and the executive and judicial capital is Colombo. Over the course of the island's history, the national capital has been in several locations other than Sri Jayawardenepura Kotte.\\n\\n| Part of a series on the |\", \"score\": 0.910998}]\n",
      "==================================\u001b[1m Ai Message \u001b[0m==================================\n",
      "\n",
      "The capital of Sri Lanka is Sri Jayawardenepura Kotte. It is a historic capital of Sri Lanka, from the Kotte Kingdom (established 14th century). Sri Jayawardenepura translates roughly as ‘resplendent city of rising victory’. \n",
      "\n",
      "While there were later kingdoms (notably Kandy) and colonial powers of Portuguese, Dutch, and British used Colombo as their capital, much later President JR Jayewardene decided to move the capital to the ancient lands. \n",
      "\n",
      "For more detailed information, you can refer to the following sources:\n",
      "- [Quora](https://www.quora.com/What-is-the-capital-of-Sri-Lanka-1)\n",
      "- [Wikipedia](https://en.wikipedia.org/wiki/Capital_of_Sri_Lanka)\n"
     ]
    }
   ],
   "source": [
    "events = graph.stream(None, cfg_user_1, stream_mode=\"values\")\n",
    "for event in events:\n",
    "    if \"messages\" in event:\n",
    "        event[\"messages\"][-1].pretty_print()\n"
   ]
  }
 ],
 "metadata": {
  "kernelspec": {
   "display_name": "learn-bedrock",
   "language": "python",
   "name": "python3"
  },
  "language_info": {
   "codemirror_mode": {
    "name": "ipython",
    "version": 3
   },
   "file_extension": ".py",
   "mimetype": "text/x-python",
   "name": "python",
   "nbconvert_exporter": "python",
   "pygments_lexer": "ipython3",
   "version": "3.13.5"
  }
 },
 "nbformat": 4,
 "nbformat_minor": 5
}
