{
 "cells": [
  {
   "cell_type": "markdown",
   "id": "cadd02ae",
   "metadata": {},
   "source": [
    "## ReAct Agent\n",
    "Amazon Nova Pro used as a LLM model.\n",
    "Here the model communicate with tool to get the time. For example:\n",
    "\n",
    "I want to check the flights and their arrival time based on the Australian time.\n",
    "\n",
    "Create model:"
   ]
  },
  {
   "cell_type": "code",
   "execution_count": 1,
   "id": "df1b2c60",
   "metadata": {},
   "outputs": [],
   "source": [
    "import boto3\n",
    "import json\n",
    "import logging\n",
    "\n",
    "from langchain_aws import ChatBedrock\n",
    "from langchain_core.output_parsers import StrOutputParser\n",
    "\n",
    "boto3.set_stream_logger('', logging.ERROR)\n",
    "\n",
    "# Initialize AWS Bedrock client\n",
    "bedrock_client = boto3.client(\n",
    "    service_name='bedrock-runtime'\n",
    "    ,region_name='ap-southeast-2'\n",
    ")\n",
    "\n",
    "llm = ChatBedrock(\n",
    "    client=bedrock_client,\n",
    "    model_id=\"amazon.nova-pro-v1:0\",  \n",
    "    model_kwargs={\n",
    "        \"temperature\": 0.3,  # Same temperature as original\n",
    "        \"maxTokenCount\": 1000\n",
    "    }\n",
    ")"
   ]
  },
  {
   "cell_type": "markdown",
   "id": "ca466e10",
   "metadata": {},
   "source": [
    "[Tavily - The Web Access Layer for AI Agents](https://www.tavily.com/) is a thrid party software. To access the Tavily servces, you need to load the API Keys."
   ]
  },
  {
   "cell_type": "code",
   "execution_count": null,
   "id": "6630c7c9",
   "metadata": {},
   "outputs": [],
   "source": [
    "%load_ext dotenv\n",
    "%dotenv ../../.env"
   ]
  },
  {
   "cell_type": "markdown",
   "id": "dbaefc6d",
   "metadata": {},
   "source": [
    "From the LangChain communities you can find TavilySearchResults"
   ]
  },
  {
   "cell_type": "code",
   "execution_count": 16,
   "id": "78c5a49e",
   "metadata": {},
   "outputs": [],
   "source": [
    "from langchain_community.tools import TavilySearchResults\n",
    "travily_search = TavilySearchResults(max_results=3)"
   ]
  },
  {
   "cell_type": "markdown",
   "id": "a3f685a3",
   "metadata": {},
   "source": [
    "Another custom tool using LangChain `tool` module:\n",
    "\n",
    "> Important to note that Agent will read the doc string of the function. Please notice the second line of the following doc string."
   ]
  },
  {
   "cell_type": "code",
   "execution_count": 17,
   "id": "3d19d581",
   "metadata": {},
   "outputs": [],
   "source": [
    "from langchain.tools import tool\n",
    "from datetime import datetime\n",
    "\n",
    "@tool\n",
    "def get_current_time(string: str) -> str:\n",
    "    \"\"\"\n",
    "    Returns the current time. Use this for any questions related to knowing the time.\n",
    "    Use this tool first for any time-based queires.\n",
    "    \"\"\"\n",
    "    return f\"The current time is {datetime.now().strftime('%H:%M:%S')}\""
   ]
  },
  {
   "cell_type": "markdown",
   "id": "b07847d5",
   "metadata": {},
   "source": [
    "Define the ReAct agent and create LangChain graph:"
   ]
  },
  {
   "cell_type": "code",
   "execution_count": null,
   "id": "7dcff9c9",
   "metadata": {},
   "outputs": [],
   "source": [
    "from langgraph.prebuilt import create_react_agent\n",
    "\n",
    "tools = [travily_search, get_current_time]\n",
    "graph = create_react_agent(llm, tools)"
   ]
  },
  {
   "cell_type": "markdown",
   "id": "4a960b2d",
   "metadata": {},
   "source": []
  },
  {
   "cell_type": "markdown",
   "id": "8725905e",
   "metadata": {},
   "source": [
    "Visualise the graph we have created to execute:"
   ]
  },
  {
   "cell_type": "code",
   "execution_count": 24,
   "id": "34bc3d37",
   "metadata": {},
   "outputs": [
    {
     "data": {
      "image/png": "[encoded data removed]",
      "text/plain": [
       "<IPython.core.display.Image object>"
      ]
     },
     "metadata": {},
     "output_type": "display_data"
    }
   ],
   "source": [
    "from IPython.display import display, Image\n",
    "\n",
    "display(Image(graph.get_graph().draw_mermaid_png()))"
   ]
  },
  {
   "cell_type": "code",
   "execution_count": 38,
   "id": "f119068e",
   "metadata": {},
   "outputs": [],
   "source": [
    "from IPython.display import Markdown\n",
    "\n",
    "def render_in_markdown(text):\n",
    "    display(Markdown(text))"
   ]
  },
  {
   "cell_type": "markdown",
   "id": "895ee7fe",
   "metadata": {},
   "source": [
    "Helper function to stream the agent's response back from each node"
   ]
  },
  {
   "cell_type": "code",
   "execution_count": 35,
   "id": "f9e54cd3",
   "metadata": {},
   "outputs": [],
   "source": [
    "def process_stream(stream):\n",
    "    for s in stream:\n",
    "        message = s[\"messages\"][-1]\n",
    "        if isinstance(message, tuple):\n",
    "            print(message)\n",
    "        else:\n",
    "            message.pretty_print()\n",
    "    return message    \n",
    "\n"
   ]
  },
  {
   "cell_type": "code",
   "execution_count": 36,
   "id": "68cfbc1d",
   "metadata": {},
   "outputs": [],
   "source": [
    "def process_query(query):\n",
    "    inputs = {\"messages\": [(\"user\", query)]}\n",
    "    message = process_stream(graph.stream(inputs, stream_mode=\"values\"))\n",
    "    render_in_markdown(message.content)"
   ]
  },
  {
   "cell_type": "code",
   "execution_count": 42,
   "id": "2f6a87ef",
   "metadata": {},
   "outputs": [
    {
     "name": "stdout",
     "output_type": "stream",
     "text": [
      "================================\u001b[1m Human Message \u001b[0m=================================\n",
      "\n",
      "What is the current time in Sydney?\n",
      "==================================\u001b[1m Ai Message \u001b[0m==================================\n",
      "\n",
      "[{'type': 'text', 'text': '<thinking> To determine the current time in Sydney, I need to use the `get_current_time` tool. I will specify the location as Sydney to get the accurate time. </thinking>\\n'}, {'type': 'tool_use', 'name': 'get_current_time', 'input': {'string': 'Sydney'}, 'id': 'tooluse_F5C69PLOQhy7hnQ334I47A'}]\n",
      "Tool Calls:\n",
      "  get_current_time (tooluse_F5C69PLOQhy7hnQ334I47A)\n",
      " Call ID: tooluse_F5C69PLOQhy7hnQ334I47A\n",
      "  Args:\n",
      "    string: Sydney\n",
      "=================================\u001b[1m Tool Message \u001b[0m=================================\n",
      "Name: get_current_time\n",
      "\n",
      "The current time is 11:55:14\n",
      "==================================\u001b[1m Ai Message \u001b[0m==================================\n",
      "\n",
      "The current time in Sydney is 11:55:14.\n"
     ]
    },
    {
     "data": {
      "text/markdown": [
       "The current time in Sydney is 11:55:14."
      ],
      "text/plain": [
       "<IPython.core.display.Markdown object>"
      ]
     },
     "metadata": {},
     "output_type": "display_data"
    }
   ],
   "source": [
    "process_query(\"What is the current time in Sydney?\")"
   ]
  },
  {
   "cell_type": "code",
   "execution_count": 43,
   "id": "28ce3e40",
   "metadata": {},
   "outputs": [
    {
     "name": "stdout",
     "output_type": "stream",
     "text": [
      "================================\u001b[1m Human Message \u001b[0m=================================\n",
      "\n",
      "Who won the latest F1 race in Australia?\n",
      "==================================\u001b[1m Ai Message \u001b[0m==================================\n",
      "\n",
      "[{'type': 'text', 'text': '<thinking> To determine who won the latest F1 race in Australia, I need to search for the most recent race results. I will use the `tavily_search_results_json` tool to find this information. </thinking>\\n'}, {'type': 'tool_use', 'name': 'tavily_search_results_json', 'input': {'query': 'latest F1 race winner in Australia'}, 'id': 'tooluse_WS5rhkhtRsuKmA3961aRYg'}]\n",
      "Tool Calls:\n",
      "  tavily_search_results_json (tooluse_WS5rhkhtRsuKmA3961aRYg)\n",
      " Call ID: tooluse_WS5rhkhtRsuKmA3961aRYg\n",
      "  Args:\n",
      "    query: latest F1 race winner in Australia\n",
      "=================================\u001b[1m Tool Message \u001b[0m=================================\n",
      "Name: tavily_search_results_json\n",
      "\n",
      "[{\"title\": \"Australian Grand Prix\", \"url\": \"https://en.wikipedia.org/wiki/Australian_Grand_Prix\", \"content\": \"| Wins | Driver | Years won |\\n --- \\n| 4 | Australia Lex Davison | 1954, 1957, 1958, 1961 |\\n| Germany Michael Schumacher | 2000, 2001, 2002, 2004 |\\n| 3 | Australia Bill Thompson \\\"Bill Thompson (racing driver)\\\") | 1930, 1932, 1933 |\\n| Australia Doug Whiteford | 1950, 1952, 1953 |\\n| Australia Jack Brabham | 1955, 1963, 1964 |\\n| New Zealand Graham McRae | 1972, 1973, 1978 |\\n| Brazil Roberto Moreno | 1981, 1983, 1984 |\\n| France Alain Prost | 1982, 1986, 1988 | [...] | United Kingdom David Coulthard | 1997, 2003 |\\n| Finland Kimi Räikkönen | 2007, 2013 |\\n| United Kingdom Lewis Hamilton | 2008, 2015 |\\n| Germany Nico Rosberg | 2014, 2016 |\\n| Sources: | | | [...] Grands Prix, which both drew 480,000 attendees. The 2025 Australian Grand Prix was won by Lando Norris after home favourite Oscar Piastri spun out of second place. Norris was under serious pressure as Max Verstappen chased him till the end. George Russell \\\"George Russell (racing driver)\\\") completed the podium. A new attendance record at the circuit for the weekend with 465,498 spectators was set, making it the most attended sporting event ever in Melbourne and the fourth highest attended\", \"score\": 0.74785584}, {\"title\": \"Norris beats Verstappen to victory in dramatic Australian ...\", \"url\": \"https://www.formula1.com/en/latest/article/norris-beats-verstappen-to-victory-in-dramatic-australian-gp-opener-amid.5rKGxQHJoDl1P8stMSHlIN\", \"content\": \"MELBOURNE, AUSTRALIA - MARCH 16: Jack Doohan of Australia driving the (7) Alpine F1 A525 Renault\\n\\nFurther messages from the stewards confirmed that Hamilton and Albon were also under investigation for Safety Car infringements, but both got swiftly cleared of any wrongdoing, along with the aforementioned Alonso and Tsunoda. [...] Antonelli had been penalised for an unsafe release from the pits and dropped to fifth behind Albon, but was reinstated to P4 post-race, while Aston Martin’s wet-weather specialist Lance Stroll took sixth over the Sauber of Nico Hulkenberg, Ferrari’s Charles Leclerc and the recovering Piastri.\\n\\nMELBOURNE, AUSTRALIA - MARCH 16: Lando Norris of Great Britain driving the (4) McLaren MCL39 [...] MELBOURNE, AUSTRALIA - MARCH 16: Lando Norris of Great Britain driving the (4) McLaren MCL39\\n\\nOn Lap 12, with a drier line emerging around the circuit, drivers were seen taking to wetter patches to keep their intermediate tyres in check. Race Control then decided that it was time for the Drag Reduction System (DRS) to be activated.\", \"score\": 0.71995544}, {\"title\": \"2025 Australian Grand Prix - Wikipedia\", \"url\": \"https://en.wikipedia.org/wiki/2025_Australian_Grand_Prix\", \"content\": \"Verstappen, in the Red Bull, was trailing Norris as the race reached its closing stages. Norris kept Verstappen behind to win the Grand Prix, bringing McLaren its first win in Australia since Jenson Button did so for the team in 2012. In doing so, Norris led the Drivers' Championship for the first time in his career, and broke Verstappen's reign in the lead of the championship, which he had held since the 2022 Spanish Grand Prix. Having been briefly penalised, dropping him to fifth before his [...] Lando Norris in the McLaren won the race from pole position, ahead of Max Verstappen in the Red Bull and George Russell \\\"George Russell (racing driver)\\\") in the Mercedes. Norris' victory marked McLaren's first at Melbourne since Jenson Button's victory in 2012. Debutants Isack Hadjar of Racing Bulls and Gabriel Bortoleto of Sauber both retired due to accidents, the former on the formation lap, and Kimi Antonelli of Mercedes finished fourth.\\n\\n## Background [...] The final 12 minute session (Q3) determined pole position to tenth. Charles Leclerc initially looked to have secured provisional pole before Max Verstappen – just eight-hundredths clear on a 1:15.671 – as well as George Russell \\\"George Russell (racing driver)\\\") bettered his effort. Lando Norris, meanwhile, had his time deleted due to exceeding track limits. As a queue formed in the pits, Oscar Piastri found himself in the lead, and beat current World champion Verstappen by four-tenths of a\", \"score\": 0.71687365}]\n",
      "==================================\u001b[1m Ai Message \u001b[0m==================================\n",
      "\n",
      "The latest F1 race in Australia, the 2025 Australian Grand Prix, was won by Lando Norris. Norris secured the victory ahead of Max Verstappen and George Russell. This win marked McLaren's first victory in Australia since Jenson Button's win in 2012.\n"
     ]
    },
    {
     "data": {
      "text/markdown": [
       "The latest F1 race in Australia, the 2025 Australian Grand Prix, was won by Lando Norris. Norris secured the victory ahead of Max Verstappen and George Russell. This win marked McLaren's first victory in Australia since Jenson Button's win in 2012."
      ],
      "text/plain": [
       "<IPython.core.display.Markdown object>"
      ]
     },
     "metadata": {},
     "output_type": "display_data"
    }
   ],
   "source": [
    "process_query(\"Who won the latest F1 race in Australia?\")"
   ]
  },
  {
   "cell_type": "code",
   "execution_count": 44,
   "id": "9cf4d536",
   "metadata": {},
   "outputs": [
    {
     "name": "stdout",
     "output_type": "stream",
     "text": [
      "================================\u001b[1m Human Message \u001b[0m=================================\n",
      "\n",
      "What is the sunrise time for Sydney?\n",
      "==================================\u001b[1m Ai Message \u001b[0m==================================\n",
      "\n",
      "<thinking> To find the sunrise time for Sydney, I need to use the 'get_current_time' tool. However, this tool only provides the current time, not the sunrise time. I should inform the user that I cannot directly provide the sunrise time using the available tools. </thinking>\n",
      "\n",
      "I cannot directly provide the sunrise time for Sydney using the available tools. The 'get_current_time' tool only provides the current time, not the sunrise time. You may need to check a weather website or use a dedicated tool for sunrise and sunset times.\n"
     ]
    },
    {
     "data": {
      "text/markdown": [
       "<thinking> To find the sunrise time for Sydney, I need to use the 'get_current_time' tool. However, this tool only provides the current time, not the sunrise time. I should inform the user that I cannot directly provide the sunrise time using the available tools. </thinking>\n",
       "\n",
       "I cannot directly provide the sunrise time for Sydney using the available tools. The 'get_current_time' tool only provides the current time, not the sunrise time. You may need to check a weather website or use a dedicated tool for sunrise and sunset times."
      ],
      "text/plain": [
       "<IPython.core.display.Markdown object>"
      ]
     },
     "metadata": {},
     "output_type": "display_data"
    }
   ],
   "source": [
    "process_query(\"What is the sunrise time for Sydney?\")"
   ]
  },
  {
   "cell_type": "code",
   "execution_count": 47,
   "id": "681cf8c0",
   "metadata": {},
   "outputs": [
    {
     "name": "stdout",
     "output_type": "stream",
     "text": [
      "================================\u001b[1m Human Message \u001b[0m=================================\n",
      "\n",
      "What is the time difference between Capital of Australi and Capital of Sri Lanka?\n",
      "==================================\u001b[1m Ai Message \u001b[0m==================================\n",
      "\n",
      "[{'type': 'text', 'text': '<thinking> To determine the time difference between the capitals of Australia and Sri Lanka, I need to find out the current time in both capitals. The capital of Australia is Canberra, and the capital of Sri Lanka is Colombo. I will use the `get_current_time` tool to get the current time in both cities. </thinking>\\n'}, {'type': 'tool_use', 'name': 'get_current_time', 'input': {'string': 'Canberra'}, 'id': 'tooluse_rBmVS8AOS4mBPkMbg0aMmQ'}, {'type': 'tool_use', 'name': 'get_current_time', 'input': {'string': 'Colombo'}, 'id': 'tooluse_9UblnmO1TEyRVRW_2WBWXw'}]\n",
      "Tool Calls:\n",
      "  get_current_time (tooluse_rBmVS8AOS4mBPkMbg0aMmQ)\n",
      " Call ID: tooluse_rBmVS8AOS4mBPkMbg0aMmQ\n",
      "  Args:\n",
      "    string: Canberra\n",
      "  get_current_time (tooluse_9UblnmO1TEyRVRW_2WBWXw)\n",
      " Call ID: tooluse_9UblnmO1TEyRVRW_2WBWXw\n",
      "  Args:\n",
      "    string: Colombo\n",
      "=================================\u001b[1m Tool Message \u001b[0m=================================\n",
      "Name: get_current_time\n",
      "\n",
      "The current time is 12:01:44\n",
      "==================================\u001b[1m Ai Message \u001b[0m==================================\n",
      "\n",
      "[{'type': 'text', 'text': '<thinking> It appears that the `get_current_time` tool did not provide the correct time for Canberra and Colombo. This suggests that the tool may not be able to handle city names directly. I need to find another way to determine the time difference between Canberra and Colombo. I will use the `tavily_search_results_json` tool to search for the current time in both cities. </thinking> '}, {'type': 'tool_use', 'name': 'tavily_search_results_json', 'input': {'query': 'current time in Canberra'}, 'id': 'tooluse_qyJ9ecRBRJybI7nmHgq90g'}, {'type': 'tool_use', 'name': 'tavily_search_results_json', 'input': {'query': 'current time in Colombo'}, 'id': 'tooluse_EJsbFP4-RvGWICmHpuPI-A'}]\n",
      "Tool Calls:\n",
      "  tavily_search_results_json (tooluse_qyJ9ecRBRJybI7nmHgq90g)\n",
      " Call ID: tooluse_qyJ9ecRBRJybI7nmHgq90g\n",
      "  Args:\n",
      "    query: current time in Canberra\n",
      "  tavily_search_results_json (tooluse_EJsbFP4-RvGWICmHpuPI-A)\n",
      " Call ID: tooluse_EJsbFP4-RvGWICmHpuPI-A\n",
      "  Args:\n",
      "    query: current time in Colombo\n",
      "=================================\u001b[1m Tool Message \u001b[0m=================================\n",
      "Name: tavily_search_results_json\n",
      "\n",
      "[{\"title\": \"Current local time in Colombo, Sri Lanka\", \"url\": \"https://www.worldtimeserver.com/current_time_in_LK.aspx?city=Colombo\", \"content\": \"Your location\\n\\nFavorites\\n\\nProfile Login\\n\\nlanguage English\\n\\n# Current Time in Colombo, Sri Lanka\\n\\n### What Time Is It In Colombo, Sri Lanka?Local Time\\n\\n#### Sunday, August 31, 2025\\n\\nIndia Standard Time (IST) +0530 UTC\\n\\nUTC/GMT is\\n02:01\\non\\nSunday, August 31, 2025\\n\\n### Daylight Saving Time\\n\\nColombo, Sri Lanka time zone location map borders\\n\\n### Traveling to Colombo, Sri Lanka?\\n\\n### Time Zone Conversions\\n\\n### Current Weather Conditions In Colombo District\\n\\nPassing clouds. Warm. [...] Thanks for visiting and we hope you'll bookmark our site and return again!\\n\\n### Select A Location\\n\\n### Subscribe to our Newsletter\\n\\n### Recent Articles\\n\\n### Add Clock To Your Website\\n\\nGet Code\\n\\n### Time\\n\\n### Time Zones\\n\\n### Tools\\n\\n### News and Weather\\n\\n### Personalize\\n\\n### Widgets\\n\\n### World Time Database\\n\\n### Contact Us\\n\\n### Legal\\n\\nCopyright © 1998 - 2025 WorldTimeServer.com All rights reserved. Executed in 0.032 seconds. [...] Are you about to make an International long distance phone call to Colombo, Sri Lanka? Are you planning a trip or preparing for a chat or online meeting? Just confirming the current time? We work hard to make certain the time and information presented here on WorldTimeServer.com is accurate and do our best to keep up with Daylight Saving Time rules and Time Zone changes for every country, not just the changes that affect United Kingdom.\", \"score\": 0.8921218}, {\"title\": \"Current Local Time in Colombo, Sri Lanka\", \"url\": \"https://www.timeanddate.com/worldclock/sri-lanka/colombo\", \"content\": \"timeanddate.com\\nFlag for Sri Lanka\\n\\n# Current Local Time in Colombo, Sri Lanka\\n\\nSunday, August 31, 2025\\n\\n|  |  |\\n --- |\\n| Country: | Sri Lanka |\\n| Lat/Long: | 6°56'N / 79°51'E |\\n| Elevation: | 8 m |\\n| Currency: | Sri Lankan Rupee (LKR) |\\n| Languages: | English, Sinhala, Tamil |\\n| Country Code: | +94 |\\n\\nLocation of Colombo\\nLocation\\n\\nAstronomy Note: Sep 7, Total Lunar Eclipse is visible in Colombo. See eclipse info for Colombo\\n\\n## Weather\\n\\nPassing clouds.  \\n86 / 81 °F [...] |  |  |  |\\n --- \\n| Mon 1. |  | 86 / 81 °F |\\n| Tue 2. |  | 87 / 81 °F |\\n\\nWeather by CustomWeather, © 2025\\n\\nMore weather details\\n\\n## Time Zone\\n\\nNo Daylight Saving Time in 2025\\n\\n## No DST\\n\\n## Difference\\n\\nAbout IST — India Standard Time\\n\\nSet your location\\n\\n## Sunrise\\n\\n## Sunset\\n\\n## Day length\\n\\n## Moon 48.4%\\n\\n## High Tide\\n\\n## Low Tide\\n\\nMore Sun & Moon in Colombo  \\n+ Show More Twilight and Moon Phase Information\\n\\n## Solar Noon\\n\\n## Astronomical Twilight\\n\\n## Nautical Twilight\\n\\n## Civil Twilight [...] © Time and Date AS 1995–2025.\\nPrivacy & Terms\", \"score\": 0.8763069}, {\"title\": \"Time Zone & Clock Changes in Colombo, Sri Lanka\", \"url\": \"https://www.timeanddate.com/time/zone/sri-lanka/colombo\", \"content\": \"timeanddate.com\\nFlag for Sri Lanka\\n\\n# Time Zone in Colombo, Sri Lanka\\n\\nSunday, August 31, 2025\\n\\n|  |  |\\n --- |\\n| Current: | IST — India Standard Time |\\n| Current Offset: | UTC/GMT +5:30 hours |\\n| Difference: | 9:30 hours ahead of Washington DC |\\n\\nLocation of Colombo\\nLocation\\n\\n## 2025 Time Zones - Colombo\\n\\nThe graph above shows that there is no clock change in Colombo during 2025.\\n\\nNote that Colombo uses a special half-hour time zone.\\n\\n## Time Changes in Colombo Over the Years\", \"score\": 0.8215175}]\n",
      "==================================\u001b[1m Ai Message \u001b[0m==================================\n",
      "\n",
      "<thinking> Based on the search results, the current time in Canberra, Australia, is AEST (Australian Eastern Standard Time), which is UTC+10. The current time in Colombo, Sri Lanka, is IST (India Standard Time), which is UTC+5:30. To find the time difference, I need to subtract the UTC offset of Colombo from the UTC offset of Canberra. </thinking> \n",
      "\n",
      "The time difference between Canberra, Australia, and Colombo, Sri Lanka, is 4 hours and 30 minutes. Canberra is ahead of Colombo by 4 hours and 30 minutes.\n"
     ]
    },
    {
     "data": {
      "text/markdown": [
       "<thinking> Based on the search results, the current time in Canberra, Australia, is AEST (Australian Eastern Standard Time), which is UTC+10. The current time in Colombo, Sri Lanka, is IST (India Standard Time), which is UTC+5:30. To find the time difference, I need to subtract the UTC offset of Colombo from the UTC offset of Canberra. </thinking> \n",
       "\n",
       "The time difference between Canberra, Australia, and Colombo, Sri Lanka, is 4 hours and 30 minutes. Canberra is ahead of Colombo by 4 hours and 30 minutes."
      ],
      "text/plain": [
       "<IPython.core.display.Markdown object>"
      ]
     },
     "metadata": {},
     "output_type": "display_data"
    }
   ],
   "source": [
    "process_query(\"What is the time difference between Capital of Australi and Capital of Sri Lanka?\")"
   ]
  },
  {
   "cell_type": "code",
   "execution_count": 50,
   "id": "6c95ee23",
   "metadata": {},
   "outputs": [
    {
     "name": "stdout",
     "output_type": "stream",
     "text": [
      "================================\u001b[1m Human Message \u001b[0m=================================\n",
      "\n",
      "What is the Quantas Flight No QF41 arrival time to Soekarno-Hatta International Airport in Australian time?\n",
      "==================================\u001b[1m Ai Message \u001b[0m==================================\n",
      "\n",
      "[{'type': 'text', 'text': '<thinking> To determine the arrival time of Quantas Flight No QF41 to Soekarno-Hatta International Airport in Australian time, I need to follow these steps:\\n1. Find the scheduled arrival time of the flight in local time at Soekarno-Hatta International Airport.\\n2. Convert this local time to Australian time, considering the time difference between Indonesia and Australia.\\n3. To get the current time in Australia, I will use the `get_current_time` tool.\\n4. To find the scheduled arrival time of the flight, I will use the `tavily_search_results_json` tool.\\n\\nFirst, I need to get the current time in Australia to calculate the time difference accurately. </thinking>\\n'}, {'type': 'tool_use', 'name': 'get_current_time', 'input': {'string': 'Australia'}, 'id': 'tooluse_nSGY2OkFRlOEhfp3FGZjjQ'}]\n",
      "Tool Calls:\n",
      "  get_current_time (tooluse_nSGY2OkFRlOEhfp3FGZjjQ)\n",
      " Call ID: tooluse_nSGY2OkFRlOEhfp3FGZjjQ\n",
      "  Args:\n",
      "    string: Australia\n",
      "=================================\u001b[1m Tool Message \u001b[0m=================================\n",
      "Name: get_current_time\n",
      "\n",
      "The current time is 12:07:35\n",
      "==================================\u001b[1m Ai Message \u001b[0m==================================\n",
      "\n",
      "[{'type': 'text', 'text': '<thinking> Now that I have the current time in Australia, I need to find the scheduled arrival time of Quantas Flight No QF41 to Soekarno-Hatta International Airport. I will use the `tavily_search_results_json` tool to search for this information. </thinking> '}, {'type': 'tool_use', 'name': 'tavily_search_results_json', 'input': {'query': 'Quantas Flight No QF41 arrival time to Soekarno-Hatta International Airport'}, 'id': 'tooluse_tWztVv0DS1aspG--iOt-tg'}]\n",
      "Tool Calls:\n",
      "  tavily_search_results_json (tooluse_tWztVv0DS1aspG--iOt-tg)\n",
      " Call ID: tooluse_tWztVv0DS1aspG--iOt-tg\n",
      "  Args:\n",
      "    query: Quantas Flight No QF41 arrival time to Soekarno-Hatta International Airport\n",
      "=================================\u001b[1m Tool Message \u001b[0m=================================\n",
      "Name: tavily_search_results_json\n",
      "\n",
      "[{\"title\": \"QF41 - Flights\", \"url\": \"https://www.flightradar24.com/data/flights/qf41\", \"content\": \"| VH-EBP  24 Aug 2025  7:16  Landed 11:33    STD  04:10  ATD  04:18  STA  12:00  FROM  Sydney (SYD)  TO  Jakarta (CGK) |  | 24 Aug 2025 | Sydney (SYD) | Jakarta (CGK) | A332 (VH-EBP) | 7:16 | 04:10 | 04:18 | 12:00 |  | Landed 11:33 | KML   CSV  Play |  |\\n|  |  |  |  |  |  |  |  |  |  |  |  |  |\\n ---  ---  ---  ---  ---  --- [...] | VH-EBM  25 Aug 2025  7:02  Landed 11:23    STD  04:10  ATD  04:21  STA  12:00  FROM  Sydney (SYD)  TO  Jakarta (CGK) |  | 25 Aug 2025 | Sydney (SYD) | Jakarta (CGK) | A332 (VH-EBM) | 7:02 | 04:10 | 04:21 | 12:00 |  | Landed 11:23 | KML   CSV  Play |  | [...] | VH-EBM  28 Aug 2025  7:28  Landed 12:17    STD  04:10  ATD  04:49  STA  12:00  FROM  Sydney (SYD)  TO  Jakarta (CGK) |  | 28 Aug 2025 | Sydney (SYD) | Jakarta (CGK) | A332 (VH-EBM) | 7:28 | 04:10 | 04:49 | 12:00 |  | Landed 12:17 | KML   CSV  Play |  |\", \"score\": 0.73459625}, {\"title\": \"QF41 (QFA41) Qantas Flight Tracking and History\", \"url\": \"https://www.flightaware.com/live/flight/QFA41\", \"content\": \"| Your browser is unsupported. upgrade your browser | [...] This dialogue will close in 60 seconds or you can click the exit icon in the top right corner to go back to the flight map immediately.  \\n  \\nWe appreciate you trying our new Live Surface Map feature. If you have a couple of minutes, we'd like to collect your feedback on it.\\n\\n## Aircraft Details\\n\\n### Login\\n\\nlogo\\nlinkedin\\nfacebook\\ntwitter\\niOS App\\nGoogle Play App\\nUS\\nSA\\nCZ\\nDE\\nAU\\nCA\\nGB\\nUS\\nES\\nMX\\nFI\\nCA\\nFR\\nIL\\nIN\\nHR\\nIT\\nIT\\nJP\\nKR\\nPL\\nBR\\nPT\\nRU\\nTR\\nCN\\nHK\\nTW\\n\\n|  | [...] Data Products\\n\\nApplications\\n\\nDelays and cancellations\\n\\nSearch flights\\n\\nOther\\n\\nPhotos\\n\\nSquawks\\n\\nDiscussions\\n\\niOS App\\nGoogle Play App\\nUS Flag\\nFlightAware\\nSwap\\nSubmit Search\\n\\nData Products\\n\\nApplications\\n\\nDelays and cancellations\\n\\nSearch flights\\n\\nOther\\n\\nlinkedin\\nlinkedin\\n\\nPhotos\\n\\nSquawks\\n\\nDiscussions\\n\\n## Live Surface Map\\n\\nSurface map is loading\\n\\n## Live Surface Map\\n\\n## Live Surface Map\", \"score\": 0.42892754}, {\"title\": \"Flight status | Qantas US\", \"url\": \"https://www.qantas.com/us/en/travel-info/flight-status.html\", \"content\": \"Disclaimer: \\\\ Note that only the previous stop for each flight is shown. If you're unsure of the stops for a multi-stop flight, check the online timetable. Gate numbers are subject to change. Times for codeshare flights are subject to confirmation from the operating carrier, therefore there may be a delay in this information being updated. [...] # Flight status\\n\\nTrack real time flight information for Qantas and QantasLink flights. If your flight is not operated by Qantas, please refer to the operating airline's website for latest flight updates.\\\\\\n\\nIf flights are not operated by Qantas, check the operating airline’s website.\\n\\n## Manage your flight notifications\\n\\nWant to edit your registered flight notifications? Follow the links to edit or learn more about flight notifications.\\n\\n## On-time performance [...] Find out how we measure and report our on-time performance.\\n\\n## Useful links\\n\\nAustralian Passport\\n\\n### Travel documents\\n\\nBefore departure it is important to consider what documents you need.\\n\\nLady walking through airport with child and luggage\\n\\n### Customs and quarantine\\n\\nFind out the restrictions on goods you can bring in and out of Australia. Including duty free allowances and quarantine restrictions.\\n\\n### Important information\", \"score\": 0.22156994}]\n",
      "==================================\u001b[1m Ai Message \u001b[0m==================================\n",
      "\n",
      "<thinking> Based on the search results, the scheduled arrival time of Quantas Flight No QF41 to Soekarno-Hatta International Airport is 12:00 local time. To convert this to Australian time, I need to consider the time difference between Indonesia and Australia. \n",
      "\n",
      "Indonesia is generally 2 hours behind Australia. Therefore, the arrival time in Australian time would be 12:00 + 2 hours = 14:00 (2:00 PM). </thinking>\n",
      "\n",
      "The scheduled arrival time of Quantas Flight No QF41 to Soekarno-Hatta International Airport in Australian time is 14:00 (2:00 PM).\n"
     ]
    },
    {
     "data": {
      "text/markdown": [
       "<thinking> Based on the search results, the scheduled arrival time of Quantas Flight No QF41 to Soekarno-Hatta International Airport is 12:00 local time. To convert this to Australian time, I need to consider the time difference between Indonesia and Australia. \n",
       "\n",
       "Indonesia is generally 2 hours behind Australia. Therefore, the arrival time in Australian time would be 12:00 + 2 hours = 14:00 (2:00 PM). </thinking>\n",
       "\n",
       "The scheduled arrival time of Quantas Flight No QF41 to Soekarno-Hatta International Airport in Australian time is 14:00 (2:00 PM)."
      ],
      "text/plain": [
       "<IPython.core.display.Markdown object>"
      ]
     },
     "metadata": {},
     "output_type": "display_data"
    }
   ],
   "source": [
    "process_query(\"What is the Quantas Flight No QF41 arrival time to Soekarno-Hatta International Airport in Australian time?\")"
   ]
  },
  {
   "cell_type": "code",
   "execution_count": null,
   "id": "b7c6ad2c",
   "metadata": {},
   "outputs": [],
   "source": []
  }
 ],
 "metadata": {
  "kernelspec": {
   "display_name": "learn-bedrock",
   "language": "python",
   "name": "python3"
  },
  "language_info": {
   "codemirror_mode": {
    "name": "ipython",
    "version": 3
   },
   "file_extension": ".py",
   "mimetype": "text/x-python",
   "name": "python",
   "nbconvert_exporter": "python",
   "pygments_lexer": "ipython3",
   "version": "3.13.5"
  }
 },
 "nbformat": 4,
 "nbformat_minor": 5
}
