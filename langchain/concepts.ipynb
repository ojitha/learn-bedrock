{
 "cells": [
  {
   "cell_type": "markdown",
   "id": "7c6e37a6",
   "metadata": {},
   "source": [
    "## Trip Planner\n",
    "This model use Amazon Nova Pro instead of ChatGPT.\n",
    "\n",
    "Reference: [Lesson 4.1: Core LangChain Concepts | Building AI Agents with LangGraph: Creating Agentic Applications with Large Language Models and LangGraph](https://learning.oreilly.com/videos/building-ai-agents/0642572077884/0642572077884-video381652/)\n",
    "\n",
    "Define the AWS Language model to use:"
   ]
  },
  {
   "cell_type": "code",
   "execution_count": 1,
   "id": "ea77d157",
   "metadata": {},
   "outputs": [],
   "source": [
    "%load_ext dotenv\n",
    "%dotenv ../../.env"
   ]
  },
  {
   "cell_type": "code",
   "execution_count": 2,
   "id": "93d018b4",
   "metadata": {},
   "outputs": [],
   "source": [
    "import boto3\n",
    "import json\n",
    "import logging\n",
    "\n",
    "from langchain_aws import ChatBedrock\n",
    "from langchain_core.output_parsers import StrOutputParser\n",
    "\n",
    "boto3.set_stream_logger('', logging.ERROR)\n",
    "\n",
    "# Initialize AWS Bedrock client\n",
    "bedrock_client = boto3.client(\n",
    "    service_name='bedrock-runtime'\n",
    "    ,region_name='ap-southeast-2'\n",
    ")\n",
    "\n",
    "llm = ChatBedrock(\n",
    "    client=bedrock_client,\n",
    "    model_id=\"amazon.nova-pro-v1:0\",  \n",
    "    model_kwargs={\n",
    "        \"temperature\": 0.3,  # Same temperature as original\n",
    "        \"maxTokenCount\": 1000\n",
    "    }\n",
    ")"
   ]
  },
  {
   "cell_type": "code",
   "execution_count": 3,
   "id": "821a3d78",
   "metadata": {},
   "outputs": [],
   "source": [
    "from langchain_core.prompts import ChatPromptTemplate\n",
    "\n",
    "sys_template = \"\"\"\n",
    "You are a helpful trip planner. Assist me plan a trip to {destination}.\n",
    "Consider my preferences for {preferences}.\n",
    "\"\"\"\n",
    "# Define User and the System roles\n",
    "prompt_template = ChatPromptTemplate.from_messages([\n",
    "    (\"system\", sys_template),\n",
    "    (\"user\", \"What should I do in {destination}?\"),\n",
    "])\n"
   ]
  },
  {
   "cell_type": "markdown",
   "id": "943d9be3",
   "metadata": {},
   "source": [
    "Define a chain using LCEL:"
   ]
  },
  {
   "cell_type": "code",
   "execution_count": 4,
   "id": "e49ca2bc",
   "metadata": {},
   "outputs": [],
   "source": [
    "trip_planner_chain = prompt_template | llm | StrOutputParser()\n",
    "response = trip_planner_chain.invoke(\n",
    "    {\n",
    "        \"destination\": \"Sigiriyam Sri Lanka\",\n",
    "        \"preferences\": \"Historical Sites, Hotels, Cafes\"\n",
    "    }\n",
    ")"
   ]
  },
  {
   "cell_type": "markdown",
   "id": "6cf261fb",
   "metadata": {},
   "source": [
    "Display the response:"
   ]
  },
  {
   "cell_type": "code",
   "execution_count": 5,
   "id": "a6fa3b5f",
   "metadata": {},
   "outputs": [
    {
     "data": {
      "text/markdown": [
       "Sigiriya, Sri Lanka, is a fantastic destination with a rich history and beautiful scenery. Here's a detailed itinerary focusing on historical sites, hotels, and cafes:\n",
       "\n",
       "### Day 1: Arrival and Exploration\n",
       "\n",
       "**Morning:**\n",
       "- **Arrival at Sigiriya:**\n",
       "  - Fly into Bandaranaike International Airport (CMB) in Colombo and take a domestic flight or a 4-5 hour drive to Sigiriya.\n",
       "\n",
       "**Afternoon:**\n",
       "- **Check into your hotel:**\n",
       "  - **Recommended Hotel:** \n",
       "    - *Sigiriya Village Hotel*: Offers a blend of comfort and luxury with beautiful gardens.\n",
       "    - *Taprobane Island*: A boutique hotel with stunning views and excellent service.\n",
       "\n",
       "- **Lunch at a local cafe:**\n",
       "  - **Recommended Cafe:** \n",
       "    - *Sigiriya Rest House Cafe*: Traditional Sri Lankan cuisine with a view.\n",
       "\n",
       "**Evening:**\n",
       "- **Explore the Sigiriya Rock Fortress:**\n",
       "  - Visit the ancient rock fortress, a UNESCO World Heritage Site. Climb to the top for breathtaking views and explore the ancient frescoes and ruins.\n",
       "\n",
       "### Day 2: Historical Sites and Local Culture\n",
       "\n",
       "**Morning:**\n",
       "- **Visit the Pidurangala Rock:**\n",
       "  - A less crowded alternative to Sigiriya Rock, offering panoramic views of the surrounding area, including Sigiriya Rock.\n",
       "\n",
       "**Afternoon:**\n",
       "- **Lunch at a local restaurant:**\n",
       "  - **Recommended Restaurant:**\n",
       "    - *Sudu Araliya Restaurant*: Known for its authentic Sri Lankan dishes.\n",
       "\n",
       "- **Explore the Dambulla Cave Temple:**\n",
       "  - A UNESCO World Heritage Site with ancient cave temples filled with stunning Buddha statues and murals.\n",
       "\n",
       "**Evening:**\n",
       "- **Relax at your hotel or explore the local area:**\n",
       "  - Take a leisurely walk around the hotel grounds or visit nearby shops for souvenirs.\n",
       "\n",
       "### Day 3: Nature and Relaxation\n",
       "\n",
       "**Morning:**\n",
       "- **Visit the Minneriya National Park:**\n",
       "  - Go on a safari to see the famous \"Gathering,\" where large herds of elephants congregate by the Minneriya Tank.\n",
       "\n",
       "**Afternoon:**\n",
       "- **Lunch at the park or en route:**\n",
       "  - Pack a picnic or stop at a local eatery.\n",
       "\n",
       "- **Visit the ancient city of Polonnaruwa:**\n",
       "  - Explore the ruins of this ancient capital, another UNESCO World Heritage Site, with well-preserved temples and statues.\n",
       "\n",
       "**Evening:**\n",
       "- **Dinner at a local cafe:**\n",
       "  - **Recommended Cafe:**\n",
       "    - *Lion’s Den Restaurant*: Offers a mix of local and international dishes with a scenic view.\n",
       "\n",
       "### Day 4: Departure\n",
       "\n",
       "**Morning:**\n",
       "- **Last-minute shopping and breakfast:**\n",
       "  - Enjoy a leisurely breakfast at your hotel and do some last-minute shopping for souvenirs.\n",
       "\n",
       "**Afternoon:**\n",
       "- **Check out and travel to Colombo for your flight home:**\n",
       "  - Depending on your flight time, you may have a bit of time to explore more of Colombo before your departure.\n",
       "\n",
       "### Additional Tips:\n",
       "- **Transportation:** Consider hiring a local driver for the duration of your stay for convenience.\n",
       "- **Guided Tours:** For a deeper understanding of the historical sites, consider hiring a local guide.\n",
       "- **Weather:** Sigiriya has a tropical climate, so pack light, breathable clothing and sunscreen.\n",
       "\n",
       "Enjoy your trip to Sigiriya, Sri Lanka!"
      ],
      "text/plain": [
       "<IPython.core.display.Markdown object>"
      ]
     },
     "metadata": {},
     "output_type": "display_data"
    }
   ],
   "source": [
    "from IPython.display import display, Markdown\n",
    "display(Markdown(response))"
   ]
  }
 ],
 "metadata": {
  "kernelspec": {
   "display_name": "learn-bedrock",
   "language": "python",
   "name": "python3"
  },
  "language_info": {
   "codemirror_mode": {
    "name": "ipython",
    "version": 3
   },
   "file_extension": ".py",
   "mimetype": "text/x-python",
   "name": "python",
   "nbconvert_exporter": "python",
   "pygments_lexer": "ipython3",
   "version": "3.13.5"
  }
 },
 "nbformat": 4,
 "nbformat_minor": 5
}
