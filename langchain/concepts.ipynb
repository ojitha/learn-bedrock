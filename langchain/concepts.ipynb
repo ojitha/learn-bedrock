{
 "cells": [
  {
   "cell_type": "markdown",
   "id": "7c6e37a6",
   "metadata": {},
   "source": [
    "## Trip Planner\n",
    "This model use Amazon Nova Pro instead of ChatGPT.\n",
    "\n",
    "Reference: [Lesson 4.1: Core LangChain Concepts | Building AI Agents with LangGraph: Creating Agentic Applications with Large Language Models and LangGraph](https://learning.oreilly.com/videos/building-ai-agents/0642572077884/0642572077884-video381652/)\n",
    "\n",
    "Define the AWS Language model to use:"
   ]
  },
  {
   "cell_type": "code",
   "execution_count": 11,
   "id": "93d018b4",
   "metadata": {},
   "outputs": [],
   "source": [
    "import boto3\n",
    "import json\n",
    "import logging\n",
    "\n",
    "from langchain_aws import ChatBedrock\n",
    "from langchain_core.output_parsers import StrOutputParser\n",
    "\n",
    "boto3.set_stream_logger('', logging.ERROR)\n",
    "\n",
    "# Initialize AWS Bedrock client\n",
    "bedrock_client = boto3.client(\n",
    "    service_name='bedrock-runtime'\n",
    "    ,region_name='ap-southeast-2'\n",
    ")\n",
    "\n",
    "llm = ChatBedrock(\n",
    "    client=bedrock_client,\n",
    "    model_id=\"amazon.nova-pro-v1:0\",  \n",
    "    model_kwargs={\n",
    "        \"temperature\": 0.3,  # Same temperature as original\n",
    "        \"maxTokenCount\": 1000\n",
    "    }\n",
    ")"
   ]
  },
  {
   "cell_type": "code",
   "execution_count": 12,
   "id": "821a3d78",
   "metadata": {},
   "outputs": [],
   "source": [
    "from langchain_core.prompts import ChatPromptTemplate\n",
    "\n",
    "sys_template = \"\"\"\n",
    "You are a helpful trip planner. Assist me plan a trip to {destination}.\n",
    "Consider my preferences for {preferences}.\n",
    "\"\"\"\n",
    "# Define User and the System roles\n",
    "prompt_template = ChatPromptTemplate.from_messages([\n",
    "    (\"system\", sys_template),\n",
    "    (\"user\", \"What should I do in {destination}?\"),\n",
    "])\n"
   ]
  },
  {
   "cell_type": "markdown",
   "id": "943d9be3",
   "metadata": {},
   "source": [
    "Define a chain using LCEL:"
   ]
  },
  {
   "cell_type": "code",
   "execution_count": 18,
   "id": "e49ca2bc",
   "metadata": {},
   "outputs": [],
   "source": [
    "trip_planner_chain = prompt_template | llm | StrOutputParser()\n",
    "response = trip_planner_chain.invoke(\n",
    "    {\n",
    "        \"destination\": \"Sigiriyam Sri Lanka\",\n",
    "        \"preferences\": \"Historical Sites, Hotels, Cafes\"\n",
    "    }\n",
    ")"
   ]
  },
  {
   "cell_type": "markdown",
   "id": "6cf261fb",
   "metadata": {},
   "source": [
    "Display the response:"
   ]
  },
  {
   "cell_type": "code",
   "execution_count": 19,
   "id": "a6fa3b5f",
   "metadata": {},
   "outputs": [
    {
     "data": {
      "text/markdown": [
       "Sigiriya, Sri Lanka, is a fantastic destination with a rich history and beautiful scenery. Here's a detailed itinerary focusing on historical sites, hotels, and cafes:\n",
       "\n",
       "### Day 1: Arrival and Exploration\n",
       "\n",
       "**Morning:**\n",
       "- **Arrival at Sigiriya:**\n",
       "  - Fly into Bandaranaike International Airport (CMB) in Colombo and take a domestic flight or a 4-5 hour drive to Sigiriya.\n",
       "\n",
       "**Afternoon:**\n",
       "- **Check into your hotel:**\n",
       "  - **Recommended Hotel:** \n",
       "    - *Sigiriya Village Hotel*: Offers a blend of comfort and proximity to the main attractions.\n",
       "    - *Taprobane Island*: A luxurious option with stunning views and excellent amenities.\n",
       "\n",
       "- **Lunch at a local cafe:**\n",
       "  - **Recommended Cafe:** \n",
       "    - *Sigiriya Rest House Cafe*: Traditional Sri Lankan cuisine with a view.\n",
       "\n",
       "**Evening:**\n",
       "- **Sigiriya Rock Fortress:**\n",
       "  - Visit the iconic Sigiriya Rock Fortress. It's best to go in the late afternoon to avoid the crowds and enjoy the sunset views.\n",
       "\n",
       "### Day 2: Historical and Cultural Sites\n",
       "\n",
       "**Morning:**\n",
       "- **Pidurangala Rock:**\n",
       "  - Start your day early to climb Pidurangala Rock for a breathtaking view of Sigiriya Rock and the surrounding area.\n",
       "\n",
       "**Afternoon:**\n",
       "- **Dambulla Cave Temple:**\n",
       "  - Drive to Dambulla (about 25 km from Sigiriya) to explore the Dambulla Cave Temple, a UNESCO World Heritage Site with ancient murals and statues.\n",
       "\n",
       "- **Lunch at a local restaurant:**\n",
       "  - **Recommended Restaurant:** \n",
       "    - *Suriya Restaurant*: Known for its authentic Sri Lankan dishes.\n",
       "\n",
       "**Evening:**\n",
       "- **Sigiriya Museum:**\n",
       "  - Visit the Sigiriya Museum to learn more about the history and significance of the Sigiriya Rock Fortress.\n",
       "\n",
       "### Day 3: Relaxation and Local Experiences\n",
       "\n",
       "**Morning:**\n",
       "- **Cooking Class:**\n",
       "  - Participate in a Sri Lankan cooking class to learn how to prepare traditional dishes.\n",
       "\n",
       "**Afternoon:**\n",
       "- **Visit a local village:**\n",
       "  - Take a guided tour to a nearby village to experience local life and perhaps visit a tea plantation.\n",
       "\n",
       "- **Lunch at a village cafe:**\n",
       "  - **Recommended Cafe:** \n",
       "    - *Village Cafe*: Simple yet delicious local fare in a rustic setting.\n",
       "\n",
       "**Evening:**\n",
       "- **Sunset at Sigiriya:**\n",
       "  - Return to Sigiriya for another sunset view, either from the base or a nearby vantage point.\n",
       "\n",
       "### Day 4: Departure\n",
       "\n",
       "**Morning:**\n",
       "- **Breakfast at your hotel:**\n",
       "  - Enjoy a final breakfast at your hotel.\n",
       "\n",
       "**Afternoon:**\n",
       "- **Departure:**\n",
       "  - Check out and head to Bandaranaike International Airport (CMB) for your flight home.\n",
       "\n",
       "### Additional Tips:\n",
       "- **Transportation:** Consider hiring a local driver for the duration of your stay for convenience.\n",
       "- **Guided Tours:** For a deeper understanding of the historical sites, consider hiring a local guide.\n",
       "- **Packing:** Comfortable walking shoes, sun protection, and modest clothing for temple visits.\n",
       "\n",
       "Enjoy your trip to Sigiriya, Sri Lanka!"
      ],
      "text/plain": [
       "<IPython.core.display.Markdown object>"
      ]
     },
     "metadata": {},
     "output_type": "display_data"
    }
   ],
   "source": [
    "from IPython.display import display, Markdown\n",
    "display(Markdown(response))"
   ]
  },
  {
   "cell_type": "code",
   "execution_count": null,
   "id": "b838754c",
   "metadata": {},
   "outputs": [],
   "source": []
  }
 ],
 "metadata": {
  "kernelspec": {
   "display_name": "learn-bedrock",
   "language": "python",
   "name": "python3"
  },
  "language_info": {
   "codemirror_mode": {
    "name": "ipython",
    "version": 3
   },
   "file_extension": ".py",
   "mimetype": "text/x-python",
   "name": "python",
   "nbconvert_exporter": "python",
   "pygments_lexer": "ipython3",
   "version": "3.13.5"
  }
 },
 "nbformat": 4,
 "nbformat_minor": 5
}
