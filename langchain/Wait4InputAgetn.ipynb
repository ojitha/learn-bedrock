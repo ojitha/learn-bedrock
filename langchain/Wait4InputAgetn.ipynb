{
 "cells": [
  {
   "cell_type": "markdown",
   "id": "ea2c02c1",
   "metadata": {},
   "source": [
    "# Wait for input Agent\n",
    "\n",
    "Waiting for human input is a common HIL interaction, allowing the agent to ask clarifying questions and await input before proceeding."
   ]
  },
  {
   "cell_type": "code",
   "execution_count": 1,
   "id": "2993a795",
   "metadata": {},
   "outputs": [],
   "source": [
    "import boto3\n",
    "import json\n",
    "import logging\n",
    "\n",
    "from langchain_aws import ChatBedrock\n",
    "from langchain_core.output_parsers import StrOutputParser\n",
    "\n",
    "boto3.set_stream_logger('', logging.ERROR)\n",
    "\n",
    "# Initialize AWS Bedrock client\n",
    "bedrock_client = boto3.client(\n",
    "    service_name='bedrock-runtime'\n",
    "    ,region_name='ap-southeast-2'\n",
    ")\n",
    "\n",
    "llm = ChatBedrock(\n",
    "    client=bedrock_client,\n",
    "    model_id=\"amazon.nova-pro-v1:0\",  \n",
    "    model_kwargs={\n",
    "        \"temperature\": 0.3,  # Same temperature as original\n",
    "        \"maxTokenCount\": 1000\n",
    "    }\n",
    ")"
   ]
  },
  {
   "cell_type": "markdown",
   "id": "5dc1a342",
   "metadata": {},
   "source": [
    "Load the Travily API keys:"
   ]
  },
  {
   "cell_type": "code",
   "execution_count": 2,
   "id": "87bd230a",
   "metadata": {},
   "outputs": [],
   "source": [
    "%load_ext dotenv\n",
    "%dotenv ../../.env"
   ]
  },
  {
   "cell_type": "markdown",
   "id": "4aa69d45",
   "metadata": {},
   "source": [
    "Ask from the user using Pydantic data model"
   ]
  },
  {
   "cell_type": "code",
   "execution_count": 3,
   "id": "a82cd4dc",
   "metadata": {},
   "outputs": [],
   "source": [
    "from pydantic import BaseModel\n",
    "\n",
    "class UserInput(BaseModel):\n",
    "    user_input: str"
   ]
  },
  {
   "cell_type": "markdown",
   "id": "1e4d9b38",
   "metadata": {},
   "source": [
    "List of tools for the agent:"
   ]
  },
  {
   "cell_type": "code",
   "execution_count": 4,
   "id": "5722b3d1",
   "metadata": {},
   "outputs": [
    {
     "name": "stderr",
     "output_type": "stream",
     "text": [
      "/var/folders/8w/ytv2_9yd0nld4gbqjwbs4yw40000gn/T/ipykernel_35351/878479195.py:3: LangChainDeprecationWarning: The class `TavilySearchResults` was deprecated in LangChain 0.3.25 and will be removed in 1.0. An updated version of the class exists in the :class:`~langchain-tavily package and should be used instead. To use it run `pip install -U :class:`~langchain-tavily` and import as `from :class:`~langchain_tavily import TavilySearch``.\n",
      "  tavily_search = TavilySearchResults(\n"
     ]
    }
   ],
   "source": [
    "from langchain_community.tools import TavilySearchResults\n",
    "\n",
    "tavily_search = TavilySearchResults(\n",
    "    max_results=2\n",
    ")"
   ]
  },
  {
   "cell_type": "code",
   "execution_count": 5,
   "id": "0642e257",
   "metadata": {},
   "outputs": [],
   "source": [
    "tools = [\n",
    "    tavily_search\n",
    "    , UserInput\n",
    "]"
   ]
  },
  {
   "cell_type": "markdown",
   "id": "6f8c6d71",
   "metadata": {},
   "source": [
    "Bind to the LLM"
   ]
  },
  {
   "cell_type": "code",
   "execution_count": 6,
   "id": "486570f9",
   "metadata": {},
   "outputs": [],
   "source": [
    "llm_with_tools = llm.bind_tools(tools)"
   ]
  },
  {
   "cell_type": "markdown",
   "id": "6edb3255",
   "metadata": {},
   "source": [
    "Create the Graph state:"
   ]
  },
  {
   "cell_type": "code",
   "execution_count": 7,
   "id": "b8371cb3",
   "metadata": {},
   "outputs": [],
   "source": [
    "from typing import Annotated\n",
    "from typing_extensions import TypedDict\n",
    "from langgraph.graph.message import add_messages\n",
    "\n",
    "class AgentState(TypedDict):\n",
    "    messages: Annotated[list, add_messages]"
   ]
  },
  {
   "cell_type": "markdown",
   "id": "4acd5074",
   "metadata": {},
   "source": [
    "Build the graph"
   ]
  },
  {
   "cell_type": "code",
   "execution_count": 8,
   "id": "25337d39",
   "metadata": {},
   "outputs": [
    {
     "data": {
      "text/plain": [
       "<langgraph.graph.state.StateGraph at 0x10eee2e40>"
      ]
     },
     "execution_count": 8,
     "metadata": {},
     "output_type": "execute_result"
    }
   ],
   "source": [
    "from langgraph.graph import StateGraph, END\n",
    "\n",
    "graph_builder = StateGraph(AgentState)\n",
    "\n",
    "def agent_node (state: AgentState):\n",
    "    return { \"messages\":[llm_with_tools.invoke(state[\"messages\"])] }\n",
    "\n",
    "graph_builder.add_node(\"agent\", agent_node)"
   ]
  },
  {
   "cell_type": "markdown",
   "id": "a9272f11",
   "metadata": {},
   "source": [
    "Create and add tool node"
   ]
  },
  {
   "cell_type": "code",
   "execution_count": 9,
   "id": "3466cfca",
   "metadata": {},
   "outputs": [
    {
     "data": {
      "text/plain": [
       "<langgraph.graph.state.StateGraph at 0x10eee2e40>"
      ]
     },
     "execution_count": 9,
     "metadata": {},
     "output_type": "execute_result"
    }
   ],
   "source": [
    "from langgraph.prebuilt import ToolNode\n",
    "\n",
    "tool_node = ToolNode(tools=[tavily_search])\n",
    "graph_builder.add_node(\"tool\", tool_node)"
   ]
  },
  {
   "cell_type": "markdown",
   "id": "720173c6",
   "metadata": {},
   "source": [
    "Create a node which inturrpt the execution for the user"
   ]
  },
  {
   "cell_type": "code",
   "execution_count": 10,
   "id": "283baf52",
   "metadata": {},
   "outputs": [
    {
     "data": {
      "text/plain": [
       "<langgraph.graph.state.StateGraph at 0x10eee2e40>"
      ]
     },
     "execution_count": 10,
     "metadata": {},
     "output_type": "execute_result"
    }
   ],
   "source": [
    "def ask_user_node (state: AgentState):\n",
    "    pass\n",
    "\n",
    "graph_builder.add_node(\"ask_user\", ask_user_node)"
   ]
  },
  {
   "cell_type": "markdown",
   "id": "6c8887a7",
   "metadata": {},
   "source": [
    "Need to add the contional node which will intrupt the exection and ask user input to proceed to the tool node."
   ]
  },
  {
   "cell_type": "code",
   "execution_count": 11,
   "id": "612d29db",
   "metadata": {},
   "outputs": [
    {
     "data": {
      "text/plain": [
       "<langgraph.graph.state.StateGraph at 0x10eee2e40>"
      ]
     },
     "execution_count": 11,
     "metadata": {},
     "output_type": "execute_result"
    }
   ],
   "source": [
    "def routing_condition (state: AgentState):\n",
    "    messages = state[\"messages\"]\n",
    "    last_message = messages[-1]\n",
    "    if not last_message.tool_calls:\n",
    "        return END\n",
    "    elif last_message.tool_calls[0][\"name\"] == \"UserInput\":\n",
    "        return \"ask_user\"\n",
    "    else:\n",
    "        return \"tool\"\n",
    "\n",
    "# add conditional edges\n",
    "graph_builder.add_conditional_edges(\"agent\"\n",
    "    , routing_condition\n",
    "    , {END: END, \"ask_user\": \"ask_user\", \"tool\":\"tool\"}\n",
    ")"
   ]
  },
  {
   "cell_type": "markdown",
   "id": "f42cb2cc",
   "metadata": {},
   "source": [
    "Add the edges"
   ]
  },
  {
   "cell_type": "code",
   "execution_count": 12,
   "id": "c939f789",
   "metadata": {},
   "outputs": [
    {
     "data": {
      "text/plain": [
       "<langgraph.graph.state.StateGraph at 0x10eee2e40>"
      ]
     },
     "execution_count": 12,
     "metadata": {},
     "output_type": "execute_result"
    }
   ],
   "source": [
    "graph_builder.add_edge(\"tool\", \"agent\")\n",
    "graph_builder.add_edge(\"ask_user\", \"agent\")\n",
    "graph_builder.set_entry_point(\"agent\")"
   ]
  },
  {
   "cell_type": "markdown",
   "id": "435153fa",
   "metadata": {},
   "source": [
    "Set the checkpoint for conversation state. Compile the graph."
   ]
  },
  {
   "cell_type": "code",
   "execution_count": 13,
   "id": "31ede88b",
   "metadata": {},
   "outputs": [],
   "source": [
    "from langgraph.checkpoint.memory import MemorySaver\n",
    "memory = MemorySaver()\n",
    "\n",
    "graph = graph_builder.compile(\n",
    "    checkpointer=memory\n",
    "    , interrupt_before=[\"ask_user\"]\n",
    ")"
   ]
  },
  {
   "cell_type": "markdown",
   "id": "9ad3b14a",
   "metadata": {},
   "source": [
    "check the graph"
   ]
  },
  {
   "cell_type": "code",
   "execution_count": 14,
   "id": "c9aee4df",
   "metadata": {},
   "outputs": [
    {
     "data": {
      "image/png": "[encoded data removed]",
      "text/plain": [
       "<IPython.core.display.Image object>"
      ]
     },
     "metadata": {},
     "output_type": "display_data"
    }
   ],
   "source": [
    "from IPython.display import display, Image\n",
    "\n",
    "display(Image(graph.get_graph().draw_mermaid_png()))"
   ]
  },
  {
   "cell_type": "markdown",
   "id": "2077c807",
   "metadata": {},
   "source": [
    "Let us check the functionality"
   ]
  },
  {
   "cell_type": "code",
   "execution_count": 15,
   "id": "5fa84115",
   "metadata": {},
   "outputs": [],
   "source": [
    "cfg_user_1 = {\"configurable\": {\"thread_id\": \"1\"}}"
   ]
  },
  {
   "cell_type": "code",
   "execution_count": 16,
   "id": "26fae645",
   "metadata": {},
   "outputs": [
    {
     "name": "stdout",
     "output_type": "stream",
     "text": [
      "================================\u001b[1m Human Message \u001b[0m=================================\n",
      "\n",
      "What is the weather?\n",
      "==================================\u001b[1m Ai Message \u001b[0m==================================\n",
      "\n",
      "[{'type': 'text', 'text': '<thinking> To determine the current weather, I need to know the location. I should ask the user for the location first. </thinking>\\n'}, {'type': 'tool_use', 'name': 'UserInput', 'input': {'user_input': 'Please provide the location for which you want to know the weather.'}, 'id': 'tooluse_6oh-d9KpQ0ybqQU7G0ukAg'}]\n",
      "Tool Calls:\n",
      "  UserInput (tooluse_6oh-d9KpQ0ybqQU7G0ukAg)\n",
      " Call ID: tooluse_6oh-d9KpQ0ybqQU7G0ukAg\n",
      "  Args:\n",
      "    user_input: Please provide the location for which you want to know the weather.\n"
     ]
    }
   ],
   "source": [
    "events = graph.stream(\n",
    "    {\"messages\": [(\"user\", \"What is the weather?\")]}\n",
    "    , cfg_user_1\n",
    "    , stream_mode=\"values\"\n",
    ")\n",
    "\n",
    "for event in events:\n",
    "    if \"messages\" in event:\n",
    "        event[\"messages\"][-1].pretty_print()"
   ]
  },
  {
   "cell_type": "markdown",
   "id": "9089944e",
   "metadata": {},
   "source": []
  },
  {
   "cell_type": "markdown",
   "id": "5152ac24",
   "metadata": {},
   "source": [
    "Inspect the state of the grph and find how to provide the user input."
   ]
  },
  {
   "cell_type": "code",
   "execution_count": 17,
   "id": "3c3be047",
   "metadata": {},
   "outputs": [
    {
     "name": "stdout",
     "output_type": "stream",
     "text": [
      "Next node:  ('ask_user',)\n"
     ]
    }
   ],
   "source": [
    "snapshot = graph.get_state(cfg_user_1)\n",
    "print(\"Next node: \", snapshot.next)"
   ]
  },
  {
   "cell_type": "markdown",
   "id": "9f995f0f",
   "metadata": {},
   "source": [
    "Now update the message as a user"
   ]
  },
  {
   "cell_type": "code",
   "execution_count": 20,
   "id": "722757ae",
   "metadata": {},
   "outputs": [
    {
     "data": {
      "text/plain": [
       "{'configurable': {'thread_id': '1',\n",
       "  'checkpoint_ns': '',\n",
       "  'checkpoint_id': '1f086d38-e33e-6746-8002-1dcb5d832a4a'}}"
      ]
     },
     "execution_count": 20,
     "metadata": {},
     "output_type": "execute_result"
    }
   ],
   "source": [
    "from langchain_core.messages import ToolMessage\n",
    "\n",
    "# Get the tool call ID\n",
    "tool_call_id = snapshot.values[\"messages\"][-1].tool_calls[0][\"id\"]\n",
    "\n",
    "user_response = ToolMessage(\n",
    "    content=\"For Sydney\"\n",
    "    , tool_call_id=tool_call_id\n",
    ")\n",
    "\n",
    "# update the graph\n",
    "graph.update_state(cfg_user_1, {\"messages\" : [user_response]}, as_node=\"ask_user\")"
   ]
  },
  {
   "cell_type": "markdown",
   "id": "3296e9ee",
   "metadata": {},
   "source": [
    "Continue the execution"
   ]
  },
  {
   "cell_type": "code",
   "execution_count": 22,
   "id": "0f41274b",
   "metadata": {},
   "outputs": [
    {
     "name": "stdout",
     "output_type": "stream",
     "text": [
      "=================================\u001b[1m Tool Message \u001b[0m=================================\n",
      "\n",
      "For Sydney\n",
      "==================================\u001b[1m Ai Message \u001b[0m==================================\n",
      "\n",
      "[{'type': 'text', 'text': '<thinking> Now that I have the location, I can use the `tavily_search_results_json` tool to get the current weather for Sydney. </thinking> '}, {'type': 'tool_use', 'name': 'tavily_search_results_json', 'input': {'query': 'current weather in Sydney'}, 'id': 'tooluse_H0Kf6dr0SZaFaicyrniJkQ'}]\n",
      "Tool Calls:\n",
      "  tavily_search_results_json (tooluse_H0Kf6dr0SZaFaicyrniJkQ)\n",
      " Call ID: tooluse_H0Kf6dr0SZaFaicyrniJkQ\n",
      "  Args:\n",
      "    query: current weather in Sydney\n",
      "=================================\u001b[1m Tool Message \u001b[0m=================================\n",
      "Name: tavily_search_results_json\n",
      "\n",
      "[{\"title\": \"Sydney weather in September 2025 | New South Wales\", \"url\": \"https://www.weather2travel.com/new-south-wales/sydney/september/\", \"content\": \"Browse the sunrise and sunset times for Sydney in September 2025. Select a month to view Sydney sunrise and sunset times for the next 12 months.\\n\\nJanFebMarAprMayJunJulAugSepOctNovDec\\n\\n| Date | Sunrise times | Sunset times |\\n --- \\n| Monday, 1st September 2025 | 06:14 | 17:37 |\\n| Monday, 15th September 2025 | 05:55 | 17:47 |\\n| Tuesday, 30th September 2025 | 05:34 | 17:57 |\\n\\n## Be inspired [...] weather2travel.com - travel deals for your holiday in the sun\\nClick to search\\n\\n# Sydney weather in September 2025\\n\\nExpect  daytime maximum temperatures of 20°C in Sydney, New South Wales in September based on long-term weather averages. There are 7 hours of sunshine per day on average with 10 days with some rainfall and typically 62 mm of rainfall in the month. [...] 20°C maximum daytime temperature in September in Sydney\\n7 hours of sunshine per day (62% of daylight hours) in September in Sydney\\n10 days with some rainfall in September in Sydney\\n11°C minimum night-time temperature in September in Sydney\\n12 hours of daylight per day in September in Sydney\\nNo heat & humidity in September in Sydney\\n62 mm monthly rainfall in September in Sydney\\nUV (maximum) index 5 (Moderate) in September in Sydney\\n18°C sea temperature in September in Sydney\", \"score\": 0.7062922}, {\"title\": \"Sydney weather in September 2025 - Weather25.com\", \"url\": \"https://www.weather25.com/oceania/australia/new-south-wales/sydney?page=month&month=September\", \"content\": \"| Month | Temperatures | Rainy Days | Dry Days | Snowy Days | Rainfall | Weather | More details |\\n ---  ---  ---  --- |\\n| January | 29° / 19° | 4 | 27 | 0 | 105 mm | Good | Sydney in January |\\n| February | 28° / 19° | 5 | 23 | 0 | 129 mm | Perfect | Sydney in February |\\n| March | 26° / 18° | 4 | 27 | 0 | 133 mm | Perfect | Sydney in March |\\n| April | 23° / 15° | 3 | 27 | 0 | 83 mm | Perfect | Sydney in April |\\n| May | 20° / 12° | 3 | 29 | 0 | 50 mm | Good | Sydney in May | [...] Overcast\\nPatchy rain possible\\nSunny\\nPartly cloudy\\nLight drizzle\\nPatchy rain possible\\nCloudy\\nSunny\\nLight rain\\nPatchy rain possible\\nLight rain\\nPartly cloudy\\nPartly cloudy\\nOvercast\\nPatchy rain possible\\nLight rain shower\\nPartly cloudy\\nSunny\\nPartly cloudy\\nSunny\\nPatchy rain possible\\nLight rain shower\\nPartly cloudy\\nPartly cloudy\\nPartly cloudy\\nPartly cloudy\\nOvercast\\nPartly cloudy\\nCloudy\\nLight rain shower\\n\\n## Explore the weather in Sydney in other months\\n\\n## Sydney annual weather [...] weather25.com\\nSearch\\nweather in Australia\\nRemove from your favorite locations\\nAdd to my locations\\nShare\\nweather in Australia\\n\\n# Sydney weather in September 2025\\n\\nOvercast\\nPatchy rain possible\\nSunny\\nPartly cloudy\\nLight drizzle\\nPatchy rain possible\\nCloudy\\nClear\\nLight rain\\nPatchy rain possible\\nLight rain\\nPartly cloudy\\nPartly cloudy\\nOvercast\\n\\n## The average weather in Sydney in September\\n\\nThe temperatures in Sydney in September are comfortable with low of 12°C and and high up to 22°C.\", \"score\": 0.67527276}]\n",
      "==================================\u001b[1m Ai Message \u001b[0m==================================\n",
      "\n",
      "<thinking> The tool results provide information about the weather in Sydney for September 2025, but not the current weather. I should inform the user that I couldn't find the current weather and suggest they check a reliable weather website or app for the most up-to-date information. </thinking> I couldn't find the current weather for Sydney. Please check a reliable weather website or app for the most up-to-date information.\n"
     ]
    }
   ],
   "source": [
    "events = graph.stream(\n",
    "    None # update the graph\n",
    "    , cfg_user_1\n",
    "    , stream_mode=\"values\"\n",
    ")\n",
    "\n",
    "for event in events:\n",
    "    if \"messages\" in event:\n",
    "        event[\"messages\"][-1].pretty_print()"
   ]
  }
 ],
 "metadata": {
  "kernelspec": {
   "display_name": "learn-bedrock",
   "language": "python",
   "name": "python3"
  },
  "language_info": {
   "codemirror_mode": {
    "name": "ipython",
    "version": 3
   },
   "file_extension": ".py",
   "mimetype": "text/x-python",
   "name": "python",
   "nbconvert_exporter": "python",
   "pygments_lexer": "ipython3",
   "version": "3.13.5"
  }
 },
 "nbformat": 4,
 "nbformat_minor": 5
}
