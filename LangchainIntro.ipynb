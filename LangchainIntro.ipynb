{
 "cells": [
  {
   "cell_type": "markdown",
   "id": "60807dbc",
   "metadata": {},
   "source": [
    "# Example\n",
    "\n",
    "```bash\n",
    "pyenv activate langchain\n",
    "```"
   ]
  },
  {
   "cell_type": "code",
   "execution_count": 13,
   "id": "b251ec37",
   "metadata": {},
   "outputs": [
    {
     "name": "stdout",
     "output_type": "stream",
     "text": [
      "Here are some of the most popular sightseeing places in Sri Lanka:\n",
      "\n",
      "1. Sigiriya Rock Fortress - An ancient rock fortress with impressive ruins and frescoes on top of a massive rock plateau.\n",
      "\n",
      "2. Dambulla Cave Temple - This vast cave monastery has ornate carved images of Buddha and frescoes dating back to the 1st century BC.\n",
      "\n",
      "3. Temple of the Tooth Relic (Sri Dalada Maligawa) - A famous Buddhist temple in Kandy which houses the sacred tooth relic of Buddha.\n",
      "\n",
      "4. Galle Dutch Fort - A UNESCO World Heritage site, this 17th-century fortified city is known for its Dutch colonial architecture.\n",
      "\n",
      "5. Yala National Park - One of the best places to spot leopards, elephants, sloth bears, and diverse birdlife.\n",
      "\n",
      "6. Horton Plains National Park - A scenic plateau with misty landscapes, forests, and the famous World's End precipice.\n",
      "\n",
      "7. Anuradhapura - The capital of ancient Sri Lanka has incredible archaeological sites with Buddhist monuments and stupas.\n",
      "\n",
      "8. Polonnaruwa - Another ancient capital city with well-preserved ruins of temples, royal palaces, and the Gal Vihara Buddha statues.\n",
      "\n",
      "9. Mirissa Beach - A beautiful crescent-shaped beach known for whale and dolphin watching tours.\n",
      "\n",
      "10. Nuwara Eliya - A hill station town with colonial architecture, tea plantations, and cooler temperatures.\n"
     ]
    }
   ],
   "source": [
    "# Ensure your AWS credentials are configured\n",
    "\n",
    "from langchain.chat_models import init_chat_model\n",
    "from langchain_core.messages import HumanMessage, SystemMessage\n",
    "\n",
    "model = init_chat_model(\"anthropic.claude-3-sonnet-20240229-v1:0\", model_provider=\"bedrock_converse\")\n",
    "\n",
    "messages = [\n",
    "    SystemMessage(\"Create a list with the most popular sightseeing places\"),\n",
    "    HumanMessage(\"Sir Lanka\"),\n",
    "\n",
    "]\n",
    "\n",
    "response = model.invoke(messages)\n",
    "print(response.content)"
   ]
  },
  {
   "cell_type": "code",
   "execution_count": null,
   "id": "3c2170b2",
   "metadata": {},
   "outputs": [
    {
     "data": {
      "text/plain": [
       "StringPromptValue(text='Tell me a joke about cats')"
      ]
     },
     "execution_count": 1,
     "metadata": {},
     "output_type": "execute_result"
    }
   ],
   "source": [
    "from langchain_core.prompts import PromptTemplate\n",
    "\n",
    "model = init_chat_model(\"anthropic.claude-3-sonnet-20240229-v1:0\", model_provider=\"bedrock_converse\")\n",
    "prompt_template = PromptTemplate.from_template(\"Tell me a joke about {topic}\")\n",
    "\n",
    "prompt_template.invoke({\"topic\": \"cats\"})"
   ]
  }
 ],
 "metadata": {
  "kernelspec": {
   "display_name": "learn-bedrock",
   "language": "python",
   "name": "python3"
  },
  "language_info": {
   "codemirror_mode": {
    "name": "ipython",
    "version": 3
   },
   "file_extension": ".py",
   "mimetype": "text/x-python",
   "name": "python",
   "nbconvert_exporter": "python",
   "pygments_lexer": "ipython3",
   "version": "3.13.5"
  }
 },
 "nbformat": 4,
 "nbformat_minor": 5
}
